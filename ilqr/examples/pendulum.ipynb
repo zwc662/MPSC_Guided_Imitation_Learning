{
 "cells": [
  {
   "cell_type": "markdown",
   "metadata": {},
   "source": [
    "# Inverted Pendulum Problem\n",
    "\n",
    "The state and control vectors $\\textbf{x}$ and $\\textbf{u}$ are defined as follows:\n",
    "\n",
    "$$\n",
    "\\begin{equation*}\n",
    "\\textbf{x} = \\begin{bmatrix}\n",
    "    \\theta & \\dot{\\theta}\n",
    "    \\end{bmatrix}\n",
    "\\end{equation*}\n",
    "$$\n",
    "\n",
    "$$\n",
    "\\begin{equation*}\n",
    "\\textbf{u} = \\begin{bmatrix}\n",
    "    \\tau\n",
    "    \\end{bmatrix}\n",
    "\\end{equation*}\n",
    "$$\n",
    "\n",
    "The goal is to swing the pendulum upright:\n",
    "\n",
    "$$\n",
    "\\begin{equation*}\n",
    "\\textbf{x}_{goal} = \\begin{bmatrix}\n",
    "    0 & 0\n",
    "    \\end{bmatrix}\n",
    "\\end{equation*}\n",
    "$$\n",
    "\n",
    "In order to deal with potential angle wrap-around issues (i.e. $2\\pi = 0$), we\n",
    "augment the state as follows and use that instead:\n",
    "\n",
    "$$\n",
    "\\begin{equation*}\n",
    "\\textbf{x}_{augmented} = \\begin{bmatrix}\n",
    "    \\sin\\theta & \\cos\\theta & \\dot{\\theta}\n",
    "    \\end{bmatrix}\n",
    "\\end{equation*}\n",
    "$$\n",
    "\n",
    "**Note**: The torque is constrained between $-1$ and $1$. This is achieved by\n",
    "instead fitting for unconstrained actions and then applying it to a squashing\n",
    "function $\\tanh(\\textbf{u})$. This is directly embedded into the dynamics model\n",
    "in order to be auto-differentiated. This also means that we need to apply this\n",
    "transformation manually to the output of our iLQR at the end."
   ]
  },
  {
   "cell_type": "code",
   "execution_count": 1,
   "metadata": {},
   "outputs": [],
   "source": [
    "%matplotlib inline"
   ]
  },
  {
   "cell_type": "code",
   "execution_count": 2,
   "metadata": {},
   "outputs": [],
   "source": [
    "from __future__ import print_function"
   ]
  },
  {
   "cell_type": "code",
   "execution_count": 3,
   "metadata": {},
   "outputs": [],
   "source": [
    "import numpy as np\n",
    "import matplotlib.pyplot as plt"
   ]
  },
  {
   "cell_type": "code",
   "execution_count": 4,
   "metadata": {},
   "outputs": [],
   "source": [
    "from ilqr import iLQR\n",
    "from ilqr.cost import QRCost\n",
    "from ilqr.dynamics import constrain\n",
    "from ilqr.examples.pendulum import InvertedPendulumDynamics"
   ]
  },
  {
   "cell_type": "code",
   "execution_count": 5,
   "metadata": {},
   "outputs": [],
   "source": [
    "def on_iteration(iteration_count, xs, us, J_opt, accepted, converged):\n",
    "    J_hist.append(J_opt)\n",
    "    info = \"converged\" if converged else (\"accepted\" if accepted else \"failed\")\n",
    "    final_state = dynamics.reduce_state(xs[-1])\n",
    "    print(\"iteration\", iteration_count, info, J_opt, final_state)"
   ]
  },
  {
   "cell_type": "code",
   "execution_count": 6,
   "metadata": {},
   "outputs": [],
   "source": [
    "dt = 0.02\n",
    "pendulum_length = 1.0\n",
    "dynamics = InvertedPendulumDynamics(dt, l=pendulum_length)"
   ]
  },
  {
   "cell_type": "code",
   "execution_count": 7,
   "metadata": {},
   "outputs": [],
   "source": [
    "# Note that the augmented state is not all 0.\n",
    "x_goal = dynamics.augment_state(np.array([0.0, 0.0]))\n",
    "Q = np.eye(dynamics.state_size)\n",
    "Q[0, 1] = Q[1, 0] = pendulum_length\n",
    "Q[0, 0] = Q[1, 1] = pendulum_length**2\n",
    "Q[2, 2] = 0.0\n",
    "Q_terminal = 100 * np.eye(dynamics.state_size)\n",
    "R = np.array([[0.1]])\n",
    "cost = QRCost(Q, R, Q_terminal=Q_terminal, x_goal=x_goal)"
   ]
  },
  {
   "cell_type": "code",
   "execution_count": 8,
   "metadata": {},
   "outputs": [],
   "source": [
    "N = 300\n",
    "x0 = dynamics.augment_state(np.array([np.pi, 0.0]))\n",
    "us_init = np.random.uniform(-1, 1, (N, dynamics.action_size))\n",
    "ilqr = iLQR(dynamics, cost, N)"
   ]
  },
  {
   "cell_type": "code",
   "execution_count": 9,
   "metadata": {},
   "outputs": [
    {
     "name": "stdout",
     "output_type": "stream",
     "text": [
      "iteration 0 accepted 1631.9885942957746 [2.85504174 0.75732687]\n",
      "iteration 1 accepted 1517.143489628173 [2.46144364 0.55473485]\n",
      "iteration 2 accepted 1479.0607600814183 [2.44242867 0.55008745]\n",
      "iteration 3 accepted 1441.3794635477593 [2.28568437 0.42552616]\n",
      "iteration 4 accepted 1343.5735438254874 [2.13368558 0.29539843]\n",
      "iteration 5 accepted 1246.1371652374485 [1.65307724 0.02119757]\n",
      "iteration 6 accepted 1242.5152394944184 [ 1.08580616 -0.74784642]\n",
      "iteration 7 accepted 1201.0177271548018 [ 1.01115265 -0.38671853]\n",
      "iteration 8 accepted 1173.031263935732 [ 0.76343865 -0.65547982]\n",
      "iteration 9 accepted 1137.729265663297 [ 0.78525426 -0.29852576]\n",
      "iteration 10 accepted 1133.3488721265896 [ 0.73708589 -0.18910849]\n",
      "iteration 11 accepted 1036.4482273938568 [ 0.61101052 -0.19253227]\n",
      "iteration 12 accepted 1025.9803163724378 [ 0.50260034 -0.30371732]\n",
      "iteration 13 accepted 1000.7936170682074 [ 0.47218276 -0.2682341 ]\n",
      "iteration 14 accepted 996.9900815264225 [ 0.44720112 -0.2251096 ]\n",
      "iteration 15 accepted 979.6063237052399 [ 0.42324487 -0.21447873]\n",
      "iteration 16 accepted 978.8160115482234 [ 0.39818013 -0.20633662]\n",
      "iteration 17 accepted 965.3814627015819 [ 0.37879035 -0.2034294 ]\n",
      "iteration 18 accepted 965.2989076337515 [ 0.35766849 -0.20416546]\n",
      "iteration 19 accepted 952.9183072705342 [ 0.34081093 -0.20215533]\n",
      "iteration 20 accepted 937.7272703712475 [ 0.3313612  -0.17311893]\n",
      "iteration 21 accepted 936.3103036430626 [ 0.33006618 -0.12310065]\n",
      "iteration 22 accepted 926.9626516042003 [ 0.31138691 -0.12769735]\n",
      "iteration 23 accepted 920.0302839482983 [ 0.30528731 -0.10954811]\n",
      "iteration 24 accepted 914.8499781754364 [ 0.29630556 -0.10350436]\n",
      "iteration 25 accepted 914.6102753281882 [ 0.28754554 -0.08898276]\n",
      "iteration 26 accepted 909.0337128046204 [ 0.27921367 -0.08868909]\n",
      "iteration 27 accepted 900.3696188378123 [ 0.27162191 -0.08288949]\n",
      "iteration 28 accepted 895.6772880120193 [ 0.26600714 -0.08050744]\n",
      "iteration 29 accepted 895.3099386318303 [ 0.2571021  -0.07589376]\n",
      "iteration 30 accepted 890.3542779569036 [ 0.25197694 -0.07461502]\n",
      "iteration 31 accepted 889.2287605202548 [ 0.24237588 -0.07180766]\n",
      "iteration 32 accepted 879.3927433810239 [ 0.23769448 -0.07060836]\n",
      "iteration 33 accepted 876.3243204704111 [ 0.22876476 -0.06830159]\n",
      "iteration 34 accepted 865.3078622914487 [ 0.22480624 -0.06727031]\n",
      "iteration 35 accepted 862.3786832751765 [ 0.21679681 -0.06529244]\n",
      "iteration 36 accepted 851.1700236483233 [ 0.21327951 -0.06436779]\n",
      "iteration 37 accepted 849.8339886126005 [ 0.20590104 -0.06254651]\n",
      "iteration 38 accepted 838.202911595447 [ 0.2026413 -0.0616776]\n",
      "iteration 39 accepted 825.5535427765642 [ 0.19744701 -0.06034703]\n",
      "iteration 40 accepted 820.7375219445751 [ 0.19450378 -0.0595643 ]\n",
      "iteration 41 accepted 817.3880822868887 [ 0.18981924 -0.05834398]\n",
      "iteration 42 accepted 815.0056675352221 [ 0.18693665 -0.05756502]\n",
      "iteration 43 accepted 811.6884604961574 [ 0.18228961 -0.05633652]\n",
      "iteration 44 accepted 809.9998242426225 [ 0.17945626 -0.05556226]\n",
      "iteration 45 accepted 806.9468623871932 [ 0.17489076 -0.05434009]\n",
      "iteration 46 accepted 805.62223627003 [ 0.1721272  -0.05357653]\n",
      "iteration 47 accepted 802.8103583408189 [ 0.16768112 -0.05237236]\n",
      "iteration 48 accepted 801.7052395356275 [ 0.16501004 -0.051627  ]\n",
      "iteration 49 accepted 799.0906567756897 [ 0.16072111 -0.05045334]\n",
      "iteration 50 accepted 798.1630004381575 [ 0.15815918 -0.04973231]\n",
      "iteration 51 accepted 795.4807494973205 [ 0.15405533 -0.04859955]\n",
      "iteration 52 accepted 794.6262344743889 [ 0.15161988 -0.04790923]\n",
      "iteration 53 accepted 792.0605700100152 [ 0.14772499 -0.04682603]\n",
      "iteration 54 accepted 791.2845844698502 [ 0.14542199 -0.04616928]\n",
      "iteration 55 accepted 788.8648568393854 [ 0.14174281 -0.04513946]\n",
      "iteration 56 accepted 788.1392814602815 [ 0.13957266 -0.04451743]\n",
      "iteration 57 accepted 785.8579164158243 [ 0.13610801 -0.04354232]\n",
      "iteration 58 accepted 785.1534263453668 [ 0.13406737 -0.04295487]\n",
      "iteration 59 accepted 783.0217760227225 [ 0.13081058 -0.04203389]\n",
      "iteration 60 accepted 782.3099147570456 [ 0.12889372 -0.04148   ]\n",
      "iteration 61 accepted 780.3365470095105 [ 0.12583473 -0.04061132]\n",
      "iteration 62 accepted 779.5829894864144 [ 0.12403461 -0.04008944]\n",
      "iteration 63 accepted 777.7832323702082 [ 0.12116165 -0.0392705 ]\n",
      "iteration 64 accepted 776.9556457873061 [ 0.11947055 -0.03877876]\n",
      "iteration 65 accepted 775.3420066198505 [ 0.11677087 -0.03800656]\n",
      "iteration 66 accepted 774.4128286481089 [ 0.1151808 -0.0375429]\n",
      "iteration 67 accepted 772.9937628857249 [ 0.11264117 -0.03681416]\n",
      "iteration 68 accepted 771.9346977639943 [ 0.11114408 -0.03637645]\n",
      "iteration 69 accepted 770.7238705709515 [ 0.10875115 -0.03568776]\n",
      "iteration 70 accepted 769.4877165792086 [ 0.10733917 -0.03527386]\n",
      "iteration 71 accepted 768.5215146917637 [ 0.10508009 -0.03462186]\n",
      "iteration 72 accepted 767.0363359600952 [ 0.10374578 -0.03422969]\n",
      "iteration 73 accepted 766.3794379625443 [ 0.10160824 -0.03361111]\n",
      "iteration 74 accepted 764.5683562174016 [ 0.10034452 -0.03323854]\n",
      "iteration 75 accepted 764.29951965539 [ 0.09831573 -0.03264981]\n",
      "iteration 76 accepted 762.1110840367785 [ 0.09711535 -0.03229429]\n",
      "iteration 77 accepted 756.9760569144285 [ 0.09591746 -0.03194656]\n",
      "iteration 78 accepted 755.760759822648 [ 0.09476113 -0.03161027]\n",
      "iteration 79 accepted 755.7338880038865 [ 0.09294111 -0.03108578]\n",
      "iteration 80 accepted 753.9594460649377 [ 0.09187957 -0.03077204]\n",
      "iteration 81 accepted 753.1003518114885 [ 0.09082688 -0.03046274]\n",
      "iteration 82 accepted 752.0042244366517 [ 0.08979615 -0.03015944]\n",
      "iteration 83 accepted 751.1676040434063 [ 0.08878296 -0.02986213]\n",
      "iteration 84 accepted 750.1907669294122 [ 0.0877928  -0.02957071]\n",
      "iteration 85 accepted 749.8285784723364 [ 0.08621761 -0.02911187]\n",
      "iteration 86 accepted 748.2322866522766 [ 0.08528651 -0.02883518]\n",
      "iteration 87 accepted 747.3053213494586 [ 0.08436162 -0.02856188]\n",
      "iteration 88 accepted 746.0580924020082 [ 0.08345215 -0.02829305]\n",
      "iteration 89 accepted 745.0339752353925 [ 0.08255523 -0.02802872]\n",
      "iteration 90 accepted 743.7747442616956 [ 0.08167488 -0.02776891]\n",
      "iteration 91 accepted 743.5960403112131 [ 0.08027181 -0.02735881]\n",
      "iteration 92 accepted 741.3358871572233 [ 0.07943692 -0.02711065]\n",
      "iteration 93 accepted 739.8307709456113 [ 0.07860734 -0.02686531]\n",
      "iteration 94 accepted 737.953829465511 [ 0.07778878 -0.02662354]\n",
      "iteration 95 accepted 736.4860950728339 [ 0.0769809 -0.0263857]\n",
      "iteration 96 accepted 734.4874793031743 [ 0.07618615 -0.02615179]\n",
      "iteration 97 accepted 732.69499755615 [ 0.07540261 -0.02592183]\n",
      "iteration 98 accepted 730.4423675586743 [ 0.07463222 -0.02569584]\n",
      "iteration 99 accepted 730.0177470750225 [ 0.07340656 -0.02533958]\n",
      "iteration 100 accepted 726.3873814150104 [ 0.07267647 -0.02512489]\n",
      "iteration 101 accepted 722.3362573900121 [ 0.07195209 -0.02491416]\n",
      "iteration 102 accepted 720.0517547271468 [ 0.07124656 -0.024709  ]\n",
      "iteration 103 accepted 718.4022014332162 [ 0.0705591  -0.02450902]\n",
      "iteration 104 accepted 716.712013396652 [ 0.06988938 -0.02431391]\n",
      "iteration 105 accepted 715.4521194374881 [ 0.06923783 -0.02412344]\n",
      "iteration 106 accepted 714.1909641205663 [ 0.06860247 -0.02393712]\n",
      "iteration 107 accepted 713.2478651981817 [ 0.06798287 -0.02375475]\n",
      "iteration 108 accepted 712.2919627746388 [ 0.06737741 -0.02357602]\n",
      "iteration 109 accepted 711.586399147161 [ 0.06678585 -0.02340084]\n",
      "iteration 110 accepted 710.893828334222 [ 0.06620704 -0.02322898]\n",
      "iteration 111 accepted 710.3189028569343 [ 0.06564028 -0.02306033]\n",
      "iteration 112 accepted 709.8631983224558 [ 0.0650855  -0.02289484]\n",
      "iteration 113 accepted 709.4077237193774 [ 0.06454187 -0.02273234]\n",
      "iteration 114 accepted 709.0554620628008 [ 0.06400847 -0.02257271]\n",
      "iteration 115 accepted 708.7279275879268 [ 0.06348571 -0.02241601]\n",
      "iteration 116 accepted 708.5220575850217 [ 0.0629734 -0.0222621]\n",
      "iteration 117 accepted 708.2288804368268 [ 0.06247036 -0.02211081]\n",
      "iteration 118 accepted 708.0843496819871 [ 0.06197622 -0.0219621 ]\n",
      "iteration 119 accepted 707.8592927962451 [ 0.06149103 -0.02181602]\n",
      "iteration 120 accepted 707.8179921678659 [ 0.06101526 -0.02167253]\n",
      "iteration 121 accepted 707.6381149078978 [ 0.06054822 -0.02153149]\n",
      "iteration 122 accepted 707.6355908386809 [ 0.06008963 -0.0213928 ]\n",
      "iteration 123 accepted 707.4693721164089 [ 0.05963853 -0.02125634]\n",
      "iteration 124 accepted 706.748021595573 [ 0.05941054 -0.02118737]\n"
     ]
    },
    {
     "name": "stdout",
     "output_type": "stream",
     "text": [
      "iteration 125 accepted 706.7443917685354 [ 0.05869915 -0.0209737 ]\n",
      "iteration 126 accepted 706.5571047394924 [ 0.05848157 -0.02090742]\n",
      "iteration 127 accepted 706.5489454715331 [ 0.05747744 -0.02060681]\n",
      "iteration 128 accepted 706.4250561924468 [ 0.05727419 -0.02054401]\n",
      "iteration 129 accepted 706.405494807427 [ 0.05663343 -0.02034853]\n",
      "iteration 130 accepted 706.3982099196744 [ 0.05624541 -0.02022965]\n",
      "iteration 131 accepted 706.380734315753 [ 0.05586233 -0.02011252]\n",
      "iteration 132 accepted 706.3196397604721 [ 0.05566882 -0.02005325]\n",
      "iteration 133 accepted 706.3037519096698 [ 0.05477484 -0.01978423]\n",
      "iteration 134 accepted 706.3028981099214 [ 0.05442023 -0.01967484]\n",
      "iteration 135 accepted 706.2875011335659 [ 0.05406766 -0.01956657]\n",
      "iteration 136 accepted 706.222780917592 [ 0.05388891 -0.01951167]\n",
      "iteration 137 accepted 706.2217110970338 [ 0.05306288 -0.01926236]\n",
      "iteration 138 accepted 706.1734857437453 [ 0.05289454 -0.0192102 ]\n",
      "iteration 139 accepted 706.172257158446 [ 0.05211354 -0.01897267]\n",
      "iteration 140 accepted 706.1386884093815 [ 0.05195214 -0.01892259]\n",
      "iteration 141 accepted 706.1371588645297 [ 0.05120387 -0.01869464]\n",
      "iteration 142 accepted 706.114966973847 [ 0.05104948 -0.01864668]\n",
      "iteration 143 accepted 706.1111412749577 [ 0.05033368 -0.01842833]\n",
      "iteration 144 accepted 706.0970839952553 [ 0.05018583 -0.01838236]\n",
      "iteration 145 accepted 706.0904506317285 [ 0.0495003  -0.01817299]\n",
      "iteration 146 accepted 706.0886961176893 [ 0.04922334 -0.01808712]\n",
      "iteration 147 accepted 706.0857758720684 [ 0.04894836 -0.01800222]\n",
      "iteration 148 accepted 706.0724506573417 [ 0.04880908 -0.01795918]\n",
      "iteration 149 accepted 706.0676545186703 [ 0.04816555 -0.01776338]\n",
      "iteration 150 accepted 706.0666590823391 [ 0.04790782 -0.01768339]\n",
      "iteration 151 accepted 706.064104246647 [ 0.04765163 -0.01760416]\n",
      "iteration 152 accepted 706.0506829695711 [ 0.04752175 -0.01756397]\n",
      "iteration 153 accepted 706.0476822069614 [ 0.0469216  -0.01738098]\n",
      "iteration 154 accepted 706.0385517651042 [ 0.0467983  -0.01734252]\n",
      "iteration 155 accepted 706.033120787138 [ 0.04622667 -0.01716707]\n",
      "iteration 156 accepted 706.0315268163138 [ 0.0459944  -0.01709479]\n",
      "iteration 157 accepted 706.028933667131 [ 0.04576367 -0.01702326]\n",
      "iteration 158 accepted 706.0196819652296 [ 0.0456467  -0.01698696]\n",
      "iteration 159 accepted 706.0156187153971 [ 0.04510634 -0.01682165]\n",
      "iteration 160 accepted 706.0148268366995 [ 0.04488885 -0.01675389]\n",
      "iteration 161 accepted 706.0124510713259 [ 0.04467254 -0.01668673]\n",
      "iteration 162 accepted 706.0023684420298 [ 0.04456278 -0.01665261]\n",
      "iteration 163 accepted 706.000400195075 [ 0.04405568 -0.01649716]\n",
      "iteration 164 accepted 705.992623511778 [ 0.04395098 -0.01646439]\n",
      "iteration 165 accepted 705.9891468185648 [ 0.04346584 -0.01631476]\n",
      "iteration 166 converged 705.9885823495342 [ 0.04326802 -0.01625297]\n"
     ]
    }
   ],
   "source": [
    "J_hist = []\n",
    "xs, us = ilqr.fit(x0, us_init, n_iterations=200, on_iteration=on_iteration)"
   ]
  },
  {
   "cell_type": "code",
   "execution_count": 10,
   "metadata": {},
   "outputs": [],
   "source": [
    "# Reduce the state to something more reasonable.\n",
    "xs = dynamics.reduce_state(xs)\n",
    "\n",
    "# Constrain the actions to see what's actually applied to the system.\n",
    "us = constrain(us, dynamics.min_bounds, dynamics.max_bounds)"
   ]
  },
  {
   "cell_type": "code",
   "execution_count": 11,
   "metadata": {},
   "outputs": [],
   "source": [
    "t = np.arange(N) * dt\n",
    "theta = np.unwrap(xs[:, 0])  # Makes for smoother plots.\n",
    "theta_dot = xs[:, 1]"
   ]
  },
  {
   "cell_type": "code",
   "execution_count": 12,
   "metadata": {},
   "outputs": [
    {
     "data": {
      "image/png": "[encoded data removed]",
      "text/plain": [
       "<Figure size 432x288 with 1 Axes>"
      ]
     },
     "metadata": {
      "needs_background": "light"
     },
     "output_type": "display_data"
    }
   ],
   "source": [
    "_ = plt.plot(theta, theta_dot)\n",
    "_ = plt.xlabel(\"theta (rad)\")\n",
    "_ = plt.ylabel(\"theta_dot (rad/s)\")\n",
    "_ = plt.title(\"Phase Plot\")"
   ]
  },
  {
   "cell_type": "code",
   "execution_count": 13,
   "metadata": {},
   "outputs": [
    {
     "data": {
      "image/png": "[encoded data removed]",
      "text/plain": [
       "<Figure size 432x288 with 1 Axes>"
      ]
     },
     "metadata": {
      "needs_background": "light"
     },
     "output_type": "display_data"
    }
   ],
   "source": [
    "_ = plt.plot(t, us)\n",
    "_ = plt.xlabel(\"time (s)\")\n",
    "_ = plt.ylabel(\"Force (N)\")\n",
    "_ = plt.title(\"Action path\")"
   ]
  },
  {
   "cell_type": "code",
   "execution_count": 14,
   "metadata": {
    "scrolled": true
   },
   "outputs": [
    {
     "data": {
      "image/png": "[encoded data removed]",
      "text/plain": [
       "<Figure size 432x288 with 1 Axes>"
      ]
     },
     "metadata": {
      "needs_background": "light"
     },
     "output_type": "display_data"
    }
   ],
   "source": [
    "_ = plt.plot(J_hist)\n",
    "_ = plt.xlabel(\"Iteration\")\n",
    "_ = plt.ylabel(\"Total cost\")\n",
    "_ = plt.title(\"Total cost-to-go\")"
   ]
  }
 ],
 "metadata": {
  "kernelspec": {
   "display_name": "Python 3",
   "language": "python",
   "name": "python3"
  },
  "language_info": {
   "codemirror_mode": {
    "name": "ipython",
    "version": 3
   },
   "file_extension": ".py",
   "mimetype": "text/x-python",
   "name": "python",
   "nbconvert_exporter": "python",
   "pygments_lexer": "ipython3",
   "version": "3.5.2"
  }
 },
 "nbformat": 4,
 "nbformat_minor": 2
}
