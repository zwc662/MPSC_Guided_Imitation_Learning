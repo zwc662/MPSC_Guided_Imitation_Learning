{
 "cells": [
  {
   "cell_type": "markdown",
   "metadata": {},
   "source": [
    "# Cartpole Problem\n",
    "\n",
    "The state and control vectors $\\textbf{x}$ and $\\textbf{u}$ are defined as follows:\n",
    "\n",
    "$$\n",
    "\\begin{equation*}\n",
    "\\textbf{x} = \\begin{bmatrix}\n",
    "    x & \\dot{x}\n",
    "    \\end{bmatrix}^T\n",
    "\\end{equation*}\n",
    "$$\n",
    "\n",
    "$$\n",
    "\\begin{equation*}\n",
    "\\textbf{u} = \\begin{bmatrix}\n",
    "    F_{x}\n",
    "    \\end{bmatrix}^T\n",
    "\\end{equation*}\n",
    "$$\n",
    "\n",
    "The goal is to push the car to the mountaintop on the right.\n",
    "\n",
    "$$\n",
    "\\begin{equation*}\n",
    "\\textbf{x}_{goal} = \\begin{bmatrix}\n",
    "    0.6 & 0 \n",
    "    \\end{bmatrix}^T\n",
    "\\end{equation*}\n",
    "$$\n",
    "\n",
    "**Note**: The initial position is within $[-0.6, -0.4]$."
   ]
  },
  {
   "cell_type": "code",
   "execution_count": 1,
   "metadata": {},
   "outputs": [],
   "source": [
    "%matplotlib inline\n",
    "\n",
    "import importlib\n"
   ]
  },
  {
   "cell_type": "code",
   "execution_count": 2,
   "metadata": {},
   "outputs": [],
   "source": [
    "from __future__ import print_function\n",
    "import sys\n",
    "import os\n",
    "sys.path.append(os.path.abspath('../'))\n",
    "import random\n",
    "import ilqr\n",
    "import math"
   ]
  },
  {
   "cell_type": "code",
   "execution_count": 3,
   "metadata": {},
   "outputs": [],
   "source": [
    "import numpy as np\n",
    "import theano.tensor as T\n",
    "import matplotlib.pyplot as plt\n"
   ]
  },
  {
   "cell_type": "code",
   "execution_count": 14,
   "metadata": {},
   "outputs": [],
   "source": [
    "from ilqr import iLQR\n",
    "from ilqr.cost import PathQRCost, QRCost\n",
    "from ilqr.examples.car import CarDynamics, MountaincarDynamics, CarCost\n",
    "from ilqr.dynamics import constrain\n",
    "\n",
    "from bc import *\n",
    "import pickle\n",
    "import gym"
   ]
  },
  {
   "cell_type": "code",
   "execution_count": 5,
   "metadata": {},
   "outputs": [],
   "source": [
    "def on_iteration(iteration_count, xs, us, J_opt, accepted, converged):\n",
    "    J_hist.append(J_opt)\n",
    "    info = \"converged\" if converged else (\"accepted\" if accepted else \"failed\")\n",
    "    final_state = dynamics.reduce_state(xs[-1])\n",
    "    if iteration_count % 30 == 0:\n",
    "        print(\"iteration\", iteration_count, info, J_opt, final_state)"
   ]
  },
  {
   "cell_type": "code",
   "execution_count": 7,
   "metadata": {},
   "outputs": [
    {
     "name": "stdout",
     "output_type": "stream",
     "text": [
      "\u001b[33mWARN: gym.spaces.Box autodetected dtype as <class 'numpy.float32'>. Please provide explicit dtype.\u001b[0m\n"
     ]
    }
   ],
   "source": [
    "env = gym.make('MountainCar-v0')\n",
    "\n",
    "importlib.reload(ilqr)\n",
    "dynamics = MountaincarDynamics()\n"
   ]
  },
  {
   "cell_type": "code",
   "execution_count": 8,
   "metadata": {},
   "outputs": [],
   "source": [
    "\n",
    "def goal():\n",
    "    return np.array([0.6, 0.0])\n",
    "\n",
    "def barrier_u(x):\n",
    "    return np.array([0.5, 0.07])\n",
    "                                                                      \n",
    "def barrier_l(x):\n",
    "    return np.array([-1.1, -0.01])\n",
    "\n",
    "def nominal():\n",
    "    return np.array([0.6, 0.0])\n"
   ]
  },
  {
   "cell_type": "code",
   "execution_count": 9,
   "metadata": {},
   "outputs": [],
   "source": [
    "# Instantenous state cost.\n",
    "x_goal = goal()\n",
    "\n",
    "Q = np.eye(dynamics.state_size)\n",
    "Q[0, 0] = 10.0\n",
    "Q[1, 1] = 0.0\n",
    "# Terminal state cost.\n",
    "Q_terminal = 100 * np.eye(dynamics.state_size)\n",
    "\n",
    "# Instantaneous control cost.\n",
    "R = np.array([[0.1]])\n",
    "\n",
    "cost = QRCost(Q, R, Q_terminal=Q_terminal, x_goal=goal())\n"
   ]
  },
  {
   "cell_type": "code",
   "execution_count": 10,
   "metadata": {},
   "outputs": [],
   "source": [
    "N = 200\n",
    "x0 = env.reset()\n",
    "us_init = np.random.uniform(-1, 1, (N, dynamics.action_size))\n",
    "ilqr = iLQR(dynamics, cost, N)"
   ]
  },
  {
   "cell_type": "code",
   "execution_count": 11,
   "metadata": {},
   "outputs": [
    {
     "name": "stdout",
     "output_type": "stream",
     "text": [
      "iteration 0 accepted 5193.614586010163 [-0.9760202   0.00262743]\n"
     ]
    }
   ],
   "source": [
    "J_hist = []"
   ]
  },
  {
   "cell_type": "code",
   "execution_count": 22,
   "metadata": {
    "scrolled": true
   },
   "outputs": [
    {
     "name": "stdout",
     "output_type": "stream",
     "text": [
      "iteration 0 accepted 5193.686886257471 [-0.9760202   0.00262743]\n",
      "0 [-0.57182194  0.        ] 1 0.0 False\n",
      "1 [-5.71461522e-01  3.60413427e-04] 1 -1.0 False\n",
      "2 [-0.57074337  0.00071815] 1 -1.0 False\n",
      "3 [-0.56967281  0.00107056] 1 -1.0 False\n",
      "4 [-0.5682578   0.00141501] 1 -1.0 False\n",
      "5 [-0.56650884  0.00174896] 1 -1.0 False\n",
      "6 [-0.56443895  0.00206989] 1 -1.0 False\n",
      "7 [-0.56206352  0.00237543] 1 -1.0 False\n",
      "8 [-0.55940024  0.00266327] 1 -1.0 False\n",
      "9 [-0.55646897  0.00293127] 1 -1.0 False\n",
      "10 [-0.55329158  0.0031774 ] 1 -1.0 False\n",
      "11 [-0.54989178  0.0033998 ] 1 -1.0 False\n",
      "12 [-0.54629499  0.00359679] 1 -1.0 False\n",
      "13 [-0.5425281   0.00376688] 1 -1.0 False\n",
      "14 [-0.53861933  0.00390878] 1 -1.0 False\n",
      "15 [-0.53459794  0.00402139] 1 -1.0 False\n",
      "16 [-0.53049407  0.00410387] 1 -1.0 False\n",
      "17 [-0.52633849  0.00415558] 1 -1.0 False\n",
      "18 [-0.52216236  0.00417613] 1 -1.0 False\n",
      "19 [-0.517997    0.00416536] 1 -1.0 False\n",
      "20 [-0.51387366  0.00412334] 1 -1.0 False\n",
      "21 [-0.50982324  0.00405042] 1 -1.0 False\n",
      "22 [-0.50587611  0.00394713] 1 -1.0 False\n",
      "23 [-0.50206184  0.00381427] 1 -1.0 False\n",
      "24 [-0.49840898  0.00365286] 1 -1.0 False\n",
      "25 [-0.49494487  0.00346411] 1 -1.0 False\n",
      "26 [-0.49169539  0.00324947] 1 -1.0 False\n",
      "27 [-0.48868483  0.00301056] 1 -1.0 False\n",
      "28 [-0.48593564  0.00274919] 1 -1.0 False\n",
      "29 [-0.48346833  0.00246731] 1 -1.0 False\n",
      "30 [-0.48130127  0.00216706] 1 -1.0 False\n",
      "31 [-0.47945058  0.00185068] 1 -1.0 False\n",
      "32 [-0.47793005  0.00152054] 1 -1.0 False\n",
      "33 [-0.47675095  0.00117909] 1 -1.0 False\n",
      "34 [-0.47592206  0.00082889] 1 -1.0 False\n",
      "35 [-4.75449530e-01  4.72532561e-04] 1 -1.0 False\n",
      "36 [-4.75336862e-01  1.12667712e-04] 1 -1.0 False\n",
      "37 [-4.75584896e-01 -2.48033324e-04] 1 -1.0 False\n",
      "38 [-0.47619179 -0.00060689] 1 -1.0 False\n",
      "39 [-0.47715304 -0.00096125] 1 -1.0 False\n",
      "40 [-0.4784615  -0.00130847] 1 -1.0 False\n",
      "41 [-0.48010746 -0.00164596] 1 -1.0 False\n",
      "42 [-0.48207869 -0.00197122] 1 -1.0 False\n",
      "43 [-0.4843605  -0.00228182] 1 -1.0 False\n",
      "44 [-0.48693593 -0.00257543] 1 -1.0 False\n",
      "45 [-0.48978577 -0.00284984] 1 -1.0 False\n",
      "46 [-0.49288878 -0.00310301] 1 -1.0 False\n",
      "47 [-0.49622178 -0.003333  ] 1 -1.0 False\n",
      "48 [-0.49975988 -0.0035381 ] 1 -1.0 False\n",
      "49 [-0.50347662 -0.00371674] 1 -1.0 False\n",
      "50 [-0.50734419 -0.00386757] 1 -1.0 False\n",
      "51 [-0.51133362 -0.00398943] 1 -1.0 False\n",
      "52 [-0.51541501 -0.00408139] 1 -1.0 False\n",
      "53 [-0.51955778 -0.00414277] 1 -1.0 False\n",
      "54 [-0.52373085 -0.00417307] 1 -1.0 False\n",
      "55 [-0.52790293 -0.00417208] 1 -1.0 False\n",
      "56 [-0.53204274 -0.0041398 ] 1 -1.0 False\n",
      "57 [-0.53611921 -0.00407648] 1 -1.0 False\n",
      "58 [-0.54010181 -0.0039826 ] 1 -1.0 False\n",
      "59 [-0.54396069 -0.00385888] 1 -1.0 False\n",
      "60 [-0.54766695 -0.00370626] 1 -1.0 False\n",
      "61 [-0.55119285 -0.0035259 ] 1 -1.0 False\n",
      "62 [-0.55451203 -0.00331918] 1 -1.0 False\n",
      "63 [-0.5575997  -0.00308767] 1 -1.0 False\n",
      "64 [-0.5604328 -0.0028331] 1 -1.0 False\n",
      "65 [-0.5629902  -0.00255741] 1 -1.0 False\n",
      "66 [-0.56525286 -0.00226266] 1 -1.0 False\n",
      "67 [-0.56720393 -0.00195107] 1 -1.0 False\n",
      "68 [-0.56882889 -0.00162496] 1 -1.0 False\n",
      "69 [-0.57011566 -0.00128677] 1 -1.0 False\n",
      "70 [-0.57105469 -0.00093903] 1 -1.0 False\n",
      "71 [-0.571639   -0.00058431] 1 -1.0 False\n",
      "72 [-5.71864252e-01 -2.25253849e-04] 1 -1.0 False\n",
      "73 [-5.71728778e-01  1.35473632e-04] 1 -1.0 False\n",
      "74 [-5.71233583e-01  4.95195663e-04] 1 -1.0 False\n",
      "75 [-0.57038234  0.00085124] 1 -1.0 False\n",
      "76 [-0.56918137  0.00120097] 1 -1.0 False\n",
      "77 [-0.5676396   0.00154177] 1 -1.0 False\n",
      "78 [-0.56576848  0.00187112] 1 -1.0 False\n",
      "79 [-0.56358193  0.00218655] 1 -1.0 False\n",
      "80 [-0.56109623  0.0024857 ] 1 -1.0 False\n",
      "81 [-0.55832989  0.00276634] 1 -1.0 False\n",
      "82 [-0.55530353  0.00302635] 1 -1.0 False\n",
      "83 [-0.55203975  0.00326378] 1 -1.0 False\n",
      "84 [-0.54856292  0.00347683] 1 -1.0 False\n",
      "85 [-0.54489903  0.00366389] 1 -1.0 False\n",
      "86 [-0.5410755   0.00382353] 1 -1.0 False\n",
      "87 [-0.53712096  0.00395454] 1 -1.0 False\n",
      "88 [-0.53306503  0.00405593] 1 -1.0 False\n",
      "89 [-0.52893811  0.00412692] 1 -1.0 False\n",
      "90 [-0.52477114  0.00416696] 1 -1.0 False\n",
      "91 [-0.52059538  0.00417576] 1 -1.0 False\n",
      "92 [-0.51644215  0.00415323] 1 -1.0 False\n",
      "93 [-0.51234259  0.00409956] 1 -1.0 False\n",
      "94 [-0.50832744  0.00401516] 1 -1.0 False\n",
      "95 [-0.50442677  0.00390066] 1 -1.0 False\n",
      "96 [-0.50066982  0.00375695] 1 -1.0 False\n",
      "97 [-0.49708471  0.00358512] 1 -1.0 False\n",
      "98 [-0.49369823  0.00338647] 1 -1.0 False\n",
      "99 [-0.49053571  0.00316252] 1 -1.0 False\n",
      "100 [-0.48762076  0.00291495] 1 -1.0 False\n",
      "101 [-0.48497512  0.00264564] 1 -1.0 False\n",
      "102 [-0.48261851  0.00235661] 1 -1.0 False\n",
      "103 [-0.48056848  0.00205003] 1 -1.0 False\n",
      "104 [-0.47884027  0.0017282 ] 1 -1.0 False\n",
      "105 [-0.47744675  0.00139352] 1 -1.0 False\n",
      "106 [-0.47639827  0.00104849] 1 -1.0 False\n",
      "107 [-0.47570261  0.00069566] 1 -1.0 False\n",
      "108 [-4.75364928e-01  3.37676891e-04] 1 -1.0 False\n",
      "109 [-4.75387744e-01 -2.28158523e-05] 1 -1.0 False\n",
      "110 [-4.75770883e-01 -3.83139264e-04] 1 -1.0 False\n",
      "111 [-0.4765115  -0.00074062] 1 -1.0 False\n",
      "112 [-0.4776041 -0.0010926] 1 -1.0 False\n",
      "113 [-0.47904057 -0.00143647] 1 -1.0 False\n",
      "114 [-0.48081023 -0.00176966] 1 -1.0 False\n",
      "115 [-0.48289992 -0.00208969] 1 -1.0 False\n",
      "116 [-0.4852941  -0.00239418] 1 -1.0 False\n",
      "117 [-0.48797492 -0.00268083] 1 -1.0 False\n",
      "118 [-0.49092242 -0.0029475 ] 1 -1.0 False\n",
      "119 [-0.4941146  -0.00319218] 1 -1.0 False\n",
      "120 [-0.49752763 -0.00341302] 1 -1.0 False\n",
      "121 [-0.50113598 -0.00360836] 1 -1.0 False\n",
      "122 [-0.50491269 -0.0037767 ] 1 -1.0 False\n",
      "123 [-0.50882946 -0.00391677] 1 -1.0 False\n",
      "124 [-0.51285696 -0.00402751] 1 -1.0 False\n",
      "125 [-0.51696502 -0.00410806] 1 -1.0 False\n",
      "126 [-0.52112283 -0.00415781] 1 -1.0 False\n",
      "127 [-0.5252992  -0.00417638] 1 -1.0 False\n",
      "128 [-0.52946283 -0.00416362] 1 -1.0 False\n",
      "129 [-0.53358247 -0.00411964] 1 -1.0 False\n",
      "130 [-0.53762725 -0.00404478] 1 -1.0 False\n",
      "131 [-0.54156684 -0.0039396 ] 1 -1.0 False\n",
      "132 [-0.54537174 -0.0038049 ] 1 -1.0 False\n",
      "133 [-0.54901346 -0.00364172] 1 -1.0 False\n",
      "134 [-0.55246476 -0.00345129] 1 -1.0 False\n",
      "135 [-0.55569982 -0.00323507] 1 -1.0 False\n",
      "136 [-0.55869451 -0.00299468] 1 -1.0 False\n",
      "137 [-0.56142646 -0.00273195] 1 -1.0 False\n",
      "138 [-0.56387531 -0.00244885] 1 -1.0 False\n",
      "139 [-0.56602282 -0.00214751] 1 -1.0 False\n",
      "140 [-0.56785301 -0.00183019] 1 -1.0 False\n",
      "141 [-0.56935227 -0.00149926] 1 -1.0 False\n",
      "142 [-0.57050946 -0.00115718] 1 -1.0 False\n",
      "143 [-0.57131597 -0.00080651] 1 -1.0 False\n",
      "144 [-5.71765824e-01 -4.49855429e-04] 1 -1.0 False\n",
      "145 [-5.71855683e-01 -8.98584468e-05] 1 -1.0 False\n",
      "146 [-5.71584877e-01  2.70805437e-04] 1 -1.0 False\n",
      "147 [-0.57095542  0.00062946] 1 -1.0 False\n",
      "148 [-0.56997198  0.00098344] 1 -1.0 False\n",
      "149 [-0.56864186  0.00133012] 1 -1.0 False\n",
      "150 [-0.56697494  0.00166691] 1 -1.0 False\n",
      "151 [-0.56498362  0.00199132] 1 -1.0 False\n",
      "152 [-0.56268272  0.00230091] 1 -1.0 False\n",
      "153 [-0.56008935  0.00259337] 1 -1.0 False\n",
      "154 [-0.55722285  0.0028665 ] 1 -1.0 False\n",
      "155 [-0.5541046   0.00311825] 1 -1.0 False\n",
      "156 [-0.55075787  0.00334673] 1 -1.0 False\n",
      "157 [-0.54720768  0.0035502 ] 1 -1.0 False\n",
      "158 [-0.54348056  0.00372711] 1 -1.0 False\n",
      "159 [-0.53960442  0.00387614] 1 -1.0 False\n",
      "160 [-0.53560829  0.00399614] 1 -1.0 False\n",
      "161 [-0.5315221   0.00408619] 1 -1.0 False\n",
      "162 [-0.52737649  0.00414561] 1 -1.0 False\n",
      "163 [-0.52320256  0.00417394] 1 -1.0 False\n",
      "164 [-0.51903159  0.00417097] 1 -1.0 False\n",
      "165 [-0.51489487  0.00413671] 1 -1.0 False\n",
      "166 [-0.51082343  0.00407144] 1 -1.0 False\n",
      "167 [-0.50684778  0.00397565] 1 -1.0 False\n",
      "168 [-0.50299771  0.00385007] 1 -1.0 False\n",
      "169 [-0.49930205  0.00369566] 1 -1.0 False\n",
      "170 [-0.49578845  0.0035136 ] 1 -1.0 False\n",
      "171 [-0.49248319  0.00330526] 1 -1.0 False\n",
      "172 [-0.48941096  0.00307223] 1 -1.0 False\n",
      "173 [-0.48659468  0.00281627] 1 -1.0 False\n",
      "174 [-0.48405537  0.00253931] 1 -1.0 False\n",
      "175 [-0.48181194  0.00224343] 1 -1.0 False\n",
      "176 [-0.47988108  0.00193085] 1 -1.0 False\n",
      "177 [-0.47827718  0.00160391] 1 -1.0 False\n",
      "178 [-0.47701213  0.00126504] 1 -1.0 False\n",
      "179 [-0.47609535  0.00091678] 1 -1.0 False\n",
      "180 [-0.47553365  0.00056171] 1 -1.0 False\n",
      "181 [-4.75331179e-01  2.02467686e-04] 1 -1.0 False\n",
      "182 [-4.75489454e-01 -1.58275531e-04] 1 -1.0 False\n",
      "183 [-0.4760073  -0.00051784] 1 -1.0 False\n",
      "184 [-0.47688087 -0.00087357] 1 -1.0 False\n",
      "185 [-0.47810367 -0.00122281] 1 -1.0 False\n",
      "186 [-0.47966664 -0.00156296] 1 -1.0 False\n",
      "187 [-0.48155814 -0.0018915 ] 1 -1.0 False\n",
      "188 [-0.48376411 -0.00220597] 1 -1.0 False\n",
      "189 [-0.48626812 -0.00250402] 1 -1.0 False\n",
      "190 [-0.48905154 -0.00278341] 1 -1.0 False\n",
      "191 [-0.49209359 -0.00304205] 1 -1.0 False\n",
      "192 [-0.49537158 -0.00327799] 1 -1.0 False\n"
     ]
    },
    {
     "name": "stdout",
     "output_type": "stream",
     "text": [
      "193 [-0.49886103 -0.00348944] 1 -1.0 False\n",
      "194 [-0.50253583 -0.00367481] 1 -1.0 False\n",
      "195 [-0.50636851 -0.00383267] 1 -1.0 False\n",
      "196 [-0.51033035 -0.00396184] 1 -1.0 False\n",
      "197 [-0.51439168 -0.00406133] 1 -1.0 False\n",
      "198 [-0.51852205 -0.00413037] 1 -1.0 False\n",
      "199 [-0.5226905  -0.00416845] 0 -1.0 False\n"
     ]
    },
    {
     "ename": "ValueError",
     "evalue": "Done",
     "output_type": "error",
     "traceback": [
      "\u001b[0;31m---------------------------------------------------------------------------\u001b[0m",
      "\u001b[0;31mValueError\u001b[0m                                Traceback (most recent call last)",
      "\u001b[0;32m<ipython-input-22-fbed9ab6bf32>\u001b[0m in \u001b[0;36m<module>\u001b[0;34m\u001b[0m\n\u001b[1;32m     21\u001b[0m         \u001b[0menv\u001b[0m\u001b[0;34m.\u001b[0m\u001b[0mrender\u001b[0m\u001b[0;34m(\u001b[0m\u001b[0;34m)\u001b[0m\u001b[0;34m\u001b[0m\u001b[0m\n\u001b[1;32m     22\u001b[0m         \u001b[0;32mif\u001b[0m \u001b[0mdone\u001b[0m \u001b[0;32mis\u001b[0m \u001b[0;32mTrue\u001b[0m\u001b[0;34m:\u001b[0m\u001b[0;34m\u001b[0m\u001b[0m\n\u001b[0;32m---> 23\u001b[0;31m             \u001b[0;32mraise\u001b[0m \u001b[0mValueError\u001b[0m\u001b[0;34m(\u001b[0m\u001b[0;34m'Done'\u001b[0m\u001b[0;34m)\u001b[0m\u001b[0;34m\u001b[0m\u001b[0m\n\u001b[0m",
      "\u001b[0;31mValueError\u001b[0m: Done"
     ]
    }
   ],
   "source": [
    "env.close()\n",
    "state = env.reset()\n",
    "reward = 0.0\n",
    "done = False\n",
    "\n",
    "step_len = 200\n",
    "n = 200\n",
    "n_iterations = 1000\n",
    "for step in range(int(200/len_seq)): \n",
    "    x0 = dynamics.augment_state(state)\n",
    "    us_init = np.random.uniform(-1, 1, (n , dynamics.action_size))\n",
    "    ilqr = iLQR(dynamics, cost, n)\n",
    "    xs, us = ilqr.fit(x0, us_init, n_iterations = n_iterations, on_iteration=on_iteration)\n",
    "    us = constrain(us, dynamics.min_bounds, dynamics.max_bounds)\n",
    "    us = us[0: len_seq]\n",
    "    us = (us > 0.0).astype(int)\n",
    "    for i_step in range(len_seq):\n",
    "        u = us[i_step][0]\n",
    "        print(step * len_seq + i_step, state, u, reward, done)\n",
    "        state, reward, done, _ = env.step(u)\n",
    "        env.render()\n",
    "        if done is True:\n",
    "            raise ValueError('Done')"
   ]
  },
  {
   "cell_type": "code",
   "execution_count": 12,
   "metadata": {},
   "outputs": [
    {
     "ename": "NameError",
     "evalue": "name 'x_path' is not defined",
     "output_type": "error",
     "traceback": [
      "\u001b[0;31m---------------------------------------------------------------------------\u001b[0m",
      "\u001b[0;31mNameError\u001b[0m                                 Traceback (most recent call last)",
      "\u001b[0;32m<ipython-input-12-a21fd3a399f7>\u001b[0m in \u001b[0;36m<module>\u001b[0;34m\u001b[0m\n\u001b[0;32m----> 1\u001b[0;31m \u001b[0mN\u001b[0m \u001b[0;34m=\u001b[0m \u001b[0mlen\u001b[0m\u001b[0;34m(\u001b[0m\u001b[0mx_path\u001b[0m\u001b[0;34m)\u001b[0m\u001b[0;34m\u001b[0m\u001b[0m\n\u001b[0m\u001b[1;32m      2\u001b[0m \u001b[0mn\u001b[0m \u001b[0;34m=\u001b[0m \u001b[0;36m30\u001b[0m  \u001b[0;31m# Number of time steps in trajectory.\u001b[0m\u001b[0;34m\u001b[0m\u001b[0m\n\u001b[1;32m      3\u001b[0m \u001b[0mJ_hist\u001b[0m \u001b[0;34m=\u001b[0m \u001b[0;34m[\u001b[0m\u001b[0;34m]\u001b[0m\u001b[0;34m\u001b[0m\u001b[0m\n\u001b[1;32m      4\u001b[0m \u001b[0mexpert_traj\u001b[0m \u001b[0;34m=\u001b[0m \u001b[0;34m[\u001b[0m\u001b[0;34m]\u001b[0m\u001b[0;34m\u001b[0m\u001b[0m\n\u001b[1;32m      5\u001b[0m \u001b[0;34m\u001b[0m\u001b[0m\n",
      "\u001b[0;31mNameError\u001b[0m: name 'x_path' is not defined"
     ]
    }
   ],
   "source": [
    "N = len(x_path)\n",
    "n = 30  # Number of time steps in trajectory.\n",
    "J_hist = []\n",
    "expert_traj = []\n",
    "\n",
    "x0 = x_path[0]  # Initial state.\n",
    "# Random initial action path.\n",
    "#us_init = np.random.uniform(-1, 1, (n - 1, dynamics.action_size))\n",
    "us_init = np.zeros((n - 1, dynamics.action_size))\n",
    "\n",
    "for i in range(0, int(N - n) + 1):\n",
    "    k = 3\n",
    "    if i % k != 0:\n",
    "        continue\n",
    "        #pass\n",
    "    x_path_ = x_path[i: i + n]\n",
    "    cost = CarCost(Q = Q, q = q, R = R, r = r, A = A, b = b, q1 = q1, q2 = q2,\\\n",
    "                   x_nominal = x_path_,\\\n",
    "                   x_barrier_u = barrier_u,\\\n",
    "                   x_barrier_l = barrier_l)\n",
    "    ilqr = iLQR(dynamics, cost, n - 1)\n",
    "    xs, us = ilqr.fit(x0, us_init, on_iteration=on_iteration)\n",
    "\n",
    "    x0 = xs[k][:]\n",
    "    expert_traj = expert_traj + [[xs[i], us[i]] for i in range(k)]\n",
    "    \n",
    "    \n",
    "    "
   ]
  },
  {
   "cell_type": "code",
   "execution_count": 10,
   "metadata": {},
   "outputs": [],
   "source": [
    "# Reduce the state to something more reasonable.\n",
    "xs = dynamics.reduce_state(xs)\n",
    "\n",
    "# Constrain the actions to see what's actually applied to the system.\n",
    "us = constrain(us, dynamics.min_bounds, dynamics.max_bounds)"
   ]
  },
  {
   "cell_type": "code",
   "execution_count": 11,
   "metadata": {},
   "outputs": [],
   "source": [
    "t = np.arange(N + 1) * dt\n",
    "x = xs[:, 0]\n",
    "x_dot = xs[:, 1]\n",
    "theta = np.unwrap(xs[:, 2])  # Makes for smoother plots.\n",
    "theta_dot = xs[:, 3]"
   ]
  },
  {
   "cell_type": "code",
   "execution_count": 12,
   "metadata": {},
   "outputs": [
    {
     "data": {
      "image/png": "[encoded data removed]",
      "text/plain": [
       "<Figure size 432x288 with 1 Axes>"
      ]
     },
     "metadata": {
      "needs_background": "light"
     },
     "output_type": "display_data"
    }
   ],
   "source": [
    "_ = plt.plot(theta, theta_dot)\n",
    "_ = plt.xlabel(\"theta (rad)\")\n",
    "_ = plt.ylabel(\"theta_dot (rad/s)\")\n",
    "_ = plt.title(\"Orientation Phase Plot\")\n",
    "plt.show()"
   ]
  },
  {
   "cell_type": "code",
   "execution_count": 14,
   "metadata": {
    "scrolled": true
   },
   "outputs": [
    {
     "data": {
      "image/png": "[encoded data removed]",
      "text/plain": [
       "<Figure size 432x288 with 1 Axes>"
      ]
     },
     "metadata": {
      "needs_background": "light"
     },
     "output_type": "display_data"
    }
   ],
   "source": [
    "_ = plt.plot(t[:-1], us)\n",
    "_ = plt.xlabel(\"time (s)\")\n",
    "_ = plt.ylabel(\"Force (N)\")\n",
    "_ = plt.title(\"Action path\")"
   ]
  },
  {
   "cell_type": "code",
   "execution_count": 15,
   "metadata": {},
   "outputs": [
    {
     "data": {
      "image/png": "[encoded data removed]",
      "text/plain": [
       "<Figure size 432x288 with 1 Axes>"
      ]
     },
     "metadata": {
      "needs_background": "light"
     },
     "output_type": "display_data"
    }
   ],
   "source": [
    "_ = plt.plot(t, x)\n",
    "_ = plt.xlabel(\"time (s)\")\n",
    "_ = plt.ylabel(\"Position (m)\")\n",
    "_ = plt.title(\"Position path\")"
   ]
  },
  {
   "cell_type": "code",
   "execution_count": 17,
   "metadata": {
    "scrolled": false
   },
   "outputs": [
    {
     "data": {
      "image/png": "[encoded data removed]",
      "text/plain": [
       "<Figure size 432x288 with 1 Axes>"
      ]
     },
     "metadata": {
      "needs_background": "light"
     },
     "output_type": "display_data"
    }
   ],
   "source": [
    "_ = plt.plot(J_hist)\n",
    "_ = plt.xlabel(\"Iteration\")\n",
    "_ = plt.ylabel(\"Total cost\")\n",
    "_ = plt.title(\"Total cost-to-go\")"
   ]
  },
  {
   "cell_type": "code",
   "execution_count": 17,
   "metadata": {},
   "outputs": [
    {
     "name": "stdout",
     "output_type": "stream",
     "text": [
      "\u001b[33mWARN: gym.spaces.Box autodetected dtype as <class 'numpy.float32'>. Please provide explicit dtype.\u001b[0m\n",
      "iteration 0 accepted 5185.9280363679645 [-0.9760202   0.00262743]\n",
      "0 [-0.44596129  0.        ] 1 0.0 False\n",
      "1 [-0.44653832 -0.00057703] 1 -1.0 False\n",
      "2 [-0.44768817 -0.00114985] 1 -1.0 False\n",
      "3 [-0.44940244 -0.00171427] 1 -1.0 False\n",
      "4 [-0.4516686  -0.00226616] 1 -1.0 False\n",
      "5 [-0.45447006 -0.00280146] 1 -1.0 False\n",
      "6 [-0.45778628 -0.00331622] 1 -1.0 False\n",
      "7 [-0.46159289 -0.00380661] 1 -1.0 False\n",
      "8 [-0.46586186 -0.00426898] 1 -1.0 False\n",
      "9 [-0.4705617  -0.00469984] 1 -1.0 False\n",
      "iteration 0 accepted 5187.820371149795 [-0.9760202   0.00262743]\n",
      "10 [-0.47565764 -0.00509594] 1 -1.0 False\n",
      "11 [-0.48111191 -0.00545426] 1 -1.0 False\n",
      "12 [-0.48688396 -0.00577205] 1 -1.0 False\n",
      "13 [-0.49293082 -0.00604686] 1 -1.0 False\n",
      "14 [-0.49920736 -0.00627654] 1 -1.0 False\n",
      "15 [-0.50566667 -0.00645931] 1 -1.0 False\n",
      "16 [-0.51226041 -0.00659374] 1 -1.0 False\n",
      "17 [-0.51893917 -0.00667876] 1 -1.0 False\n",
      "18 [-0.52565288 -0.00671371] 1 -1.0 False\n",
      "19 [-0.53235118 -0.0066983 ] 1 -1.0 False\n",
      "iteration 0 accepted 5191.7325505247745 [-0.9760202   0.00262743]\n",
      "20 [-0.53898385 -0.00663267] 1 -1.0 False\n",
      "21 [-0.54550117 -0.00651732] 1 -1.0 False\n",
      "22 [-0.55185434 -0.00635317] 1 -1.0 False\n",
      "23 [-0.55799585 -0.00614151] 1 -1.0 False\n",
      "24 [-0.56387983 -0.00588399] 1 -1.0 False\n",
      "25 [-0.56946244 -0.00558261] 1 -1.0 False\n",
      "26 [-0.57470216 -0.00523972] 1 -1.0 False\n",
      "27 [-0.57956011 -0.00485794] 1 -1.0 False\n",
      "28 [-0.58400031 -0.0044402 ] 1 -1.0 False\n",
      "29 [-0.58798998 -0.00398967] 1 -1.0 False\n",
      "iteration 0 accepted 5194.8753326431115 [-0.9760202   0.00262743]\n",
      "30 [-0.59149971 -0.00350973] 1 -1.0 False\n",
      "31 [-0.5945037  -0.00300399] 1 -1.0 False\n",
      "32 [-0.5969799 -0.0024762] 1 -1.0 False\n",
      "33 [-0.59891018 -0.00193028] 1 -1.0 False\n",
      "34 [-0.60028041 -0.00137024] 1 -1.0 False\n",
      "35 [-0.60108059 -0.00080018] 1 -1.0 False\n",
      "36 [-6.01304883e-01 -2.24288175e-04] 1 -1.0 False\n",
      "37 [-6.00951640e-01  3.53243365e-04] 1 -1.0 False\n",
      "38 [-0.60002344  0.0009282 ] 1 -1.0 False\n",
      "39 [-0.59852707  0.00149637] 1 -1.0 False\n",
      "iteration 0 accepted 5195.147459789704 [-0.9760202   0.00262743]\n",
      "40 [-0.59647345  0.00205362] 1 -1.0 False\n",
      "41 [-0.59387762  0.00259583] 1 -1.0 False\n",
      "42 [-0.5907586   0.00311903] 1 -1.0 False\n",
      "43 [-0.58713927  0.00361932] 1 -1.0 False\n",
      "44 [-0.58304627  0.004093  ] 1 -1.0 False\n",
      "45 [-0.57850978  0.00453649] 1 -1.0 False\n",
      "46 [-0.57356332  0.00494647] 1 -1.0 False\n",
      "47 [-0.56824352  0.0053198 ] 1 -1.0 False\n",
      "48 [-0.56258988  0.00565363] 1 -1.0 False\n",
      "49 [-0.55664448  0.0059454 ] 1 -1.0 False\n",
      "iteration 0 accepted 5192.374443891969 [-0.9760202   0.00262743]\n",
      "50 [-0.55045164  0.00619284] 1 -1.0 False\n",
      "51 [-0.54405763  0.00639402] 1 -1.0 False\n",
      "52 [-0.53751027  0.00654736] 1 -1.0 False\n",
      "53 [-0.5308586   0.00665167] 1 -1.0 False\n",
      "54 [-0.52415249  0.00670611] 1 -1.0 False\n",
      "55 [-0.51744222  0.00671026] 1 -1.0 False\n",
      "56 [-0.51077813  0.00666409] 1 -1.0 False\n",
      "57 [-0.50421017  0.00656796] 1 -1.0 False\n",
      "58 [-0.49778754  0.00642263] 1 -1.0 False\n",
      "59 [-0.4915583   0.00622924] 1 -1.0 False\n",
      "iteration 0 accepted 5188.392018846381 [-0.9760202   0.00262743]\n",
      "60 [-0.48556899  0.0059893 ] 1 -1.0 False\n",
      "61 [-0.47986429  0.0057047 ] 1 -1.0 False\n",
      "62 [-0.47448666  0.00537763] 1 -1.0 False\n",
      "63 [-0.46947604  0.00501062] 1 -1.0 False\n",
      "64 [-0.46486956  0.00460648] 1 -1.0 False\n",
      "65 [-0.46070127  0.00416829] 1 -1.0 False\n",
      "66 [-0.45700192  0.00369935] 1 -1.0 False\n",
      "67 [-0.45379873  0.00320319] 1 -1.0 False\n",
      "68 [-0.45111522  0.00268351] 1 -1.0 False\n",
      "69 [-0.44897106  0.00214416] 1 -1.0 False\n",
      "iteration 0 accepted 5186.011279144349 [-0.9760202   0.00262743]\n",
      "70 [-0.44738195  0.00158911] 1 -1.0 False\n",
      "71 [-0.4463595   0.00102245] 1 -1.0 False\n",
      "72 [-0.44591117  0.00044833] 1 -1.0 False\n",
      "73 [-4.46040233e-01 -1.29067094e-04] 1 -1.0 False\n",
      "74 [-0.44674575 -0.00070552] 1 -1.0 False\n",
      "75 [-0.44802258 -0.00127683] 1 -1.0 False\n",
      "76 [-0.44986139 -0.0018388 ] 1 -1.0 False\n",
      "77 [-0.45224872 -0.00238733] 1 -1.0 False\n",
      "78 [-0.4551671  -0.00291838] 1 -1.0 False\n",
      "79 [-0.45859513 -0.00342802] 1 -1.0 False\n",
      "iteration 0 accepted 5186.990139826157 [-0.9760202   0.00262743]\n",
      "80 [-0.46250759 -0.00391247] 1 -1.0 False\n",
      "81 [-0.46687568 -0.00436809] 1 -1.0 False\n",
      "82 [-0.47166715 -0.00479146] 1 -1.0 False\n",
      "83 [-0.47684652 -0.00517938] 1 -1.0 False\n",
      "84 [-0.48237539 -0.00552887] 1 -1.0 False\n",
      "85 [-0.48821265 -0.00583726] 1 -1.0 False\n",
      "86 [-0.4943148  -0.00610216] 1 -1.0 False\n",
      "87 [-0.50063631 -0.0063215 ] 1 -1.0 False\n",
      "88 [-0.50712989 -0.00649358] 1 -1.0 False\n",
      "89 [-0.51374694 -0.00661705] 1 -1.0 False\n",
      "iteration 0 accepted 5190.600520308534 [-0.9760202   0.00262743]\n",
      "90 [-0.52043787 -0.00669093] 1 -1.0 False\n",
      "91 [-0.52715251 -0.00671464] 1 -1.0 False\n",
      "92 [-0.53384049 -0.00668798] 1 -1.0 False\n",
      "93 [-0.54045167 -0.00661118] 1 -1.0 False\n",
      "94 [-0.54693651 -0.00648484] 1 -1.0 False\n",
      "95 [-0.55324646 -0.00630995] 1 -1.0 False\n",
      "96 [-0.55933435 -0.00608788] 1 -1.0 False\n",
      "97 [-0.56515473 -0.00582038] 1 -1.0 False\n",
      "98 [-0.57066425 -0.00550952] 1 -1.0 False\n",
      "99 [-0.57582195 -0.0051577 ] 1 -1.0 False\n",
      "iteration 0 accepted 5194.23096518706 [-0.9760202   0.00262743]\n",
      "100 [-0.58058957 -0.00476763] 1 -1.0 False\n",
      "101 [-0.58493185 -0.00434227] 1 -1.0 False\n",
      "102 [-0.58881671 -0.00388487] 1 -1.0 False\n",
      "103 [-0.59221556 -0.00339885] 1 -1.0 False\n",
      "104 [-0.59510341 -0.00288785] 1 -1.0 False\n",
      "105 [-0.59745908 -0.00235567] 1 -1.0 False\n",
      "106 [-0.59926531 -0.00180624] 1 -1.0 False\n",
      "107 [-0.60050891 -0.0012436 ] 1 -1.0 False\n",
      "108 [-0.60118079 -0.00067188] 1 -1.0 False\n",
      "109 [-6.01276039e-01 -9.52512448e-05] 1 -1.0 False\n",
      "iteration 0 accepted 5195.409784150654 [-0.9760202   0.00262743]\n",
      "110 [-6.00793969e-01  4.82069814e-04] 1 -1.0 False\n",
      "111 [-0.5997381   0.00105587] 1 -1.0 False\n",
      "112 [-0.59811613  0.00162196] 1 -1.0 False\n",
      "113 [-0.59593993  0.0021762 ] 1 -1.0 False\n",
      "114 [-0.59322542  0.00271451] 1 -1.0 False\n",
      "115 [-0.5899925   0.00323292] 1 -1.0 False\n",
      "116 [-0.58626491  0.00372759] 1 -1.0 False\n",
      "117 [-0.58207009  0.00419482] 1 -1.0 False\n",
      "118 [-0.57743898  0.00463111] 1 -1.0 False\n",
      "119 [-0.57240582  0.00503316] 1 -1.0 False\n",
      "iteration 0 accepted 5193.375686473441 [-0.9760202   0.00262743]\n",
      "120 [-0.56700791  0.0053979 ] 1 -1.0 False\n",
      "121 [-0.56128536  0.00572255] 1 -1.0 False\n",
      "122 [-0.55528076  0.0060046 ] 1 -1.0 False\n",
      "123 [-0.5490389   0.00624186] 1 -1.0 False\n",
      "124 [-0.54260643  0.00643247] 1 -1.0 False\n",
      "125 [-0.53603147  0.00657495] 1 -1.0 False\n",
      "126 [-0.52936329  0.00666818] 1 -1.0 False\n",
      "127 [-0.52265188  0.00671141] 1 -1.0 False\n",
      "128 [-0.51594758  0.00670431] 1 -1.0 False\n",
      "129 [-0.50930065  0.00664693] 1 -1.0 False\n",
      "iteration 0 accepted 5189.456541876723 [-0.9760202   0.00262743]\n",
      "130 [-0.50276092  0.00653973] 1 -1.0 False\n",
      "131 [-0.49637738  0.00638354] 1 -1.0 False\n",
      "132 [-0.49019777  0.00617961] 1 -1.0 False\n",
      "133 [-0.48426824  0.00592952] 1 -1.0 False\n",
      "134 [-0.47863302  0.00563523] 1 -1.0 False\n",
      "135 [-0.47333401  0.00529901] 1 -1.0 False\n",
      "136 [-0.46841057  0.00492345] 1 -1.0 False\n",
      "137 [-0.46389914  0.00451142] 1 -1.0 False\n",
      "138 [-0.45983308  0.00406607] 1 -1.0 False\n",
      "139 [-0.45624234  0.00359074] 1 -1.0 False\n",
      "iteration 0 accepted 5186.370150660042 [-0.9760202   0.00262743]\n",
      "140 [-0.45315335  0.00308899] 1 -1.0 False\n",
      "141 [-0.45058877  0.00256458] 1 -1.0 False\n",
      "142 [-0.4485674   0.00202137] 1 -1.0 False\n",
      "143 [-0.44710403  0.00146337] 1 -1.0 False\n",
      "144 [-0.44620934  0.00089469] 1 -1.0 False\n",
      "145 [-4.45889879e-01  3.19464738e-04] 1 -1.0 False\n",
      "146 [-4.46147966e-01 -2.58087153e-04] 1 -1.0 False\n",
      "147 [-0.44698172 -0.00083376] 1 -1.0 False\n",
      "148 [-0.44838506 -0.00140334] 1 -1.0 False\n",
      "149 [-0.45034772 -0.00196267] 1 -1.0 False\n",
      "iteration 0 accepted 5186.375293693069 [-0.9760202   0.00262743]\n",
      "150 [-0.45285536 -0.00250764] 1 -1.0 False\n",
      "151 [-0.4558896  -0.00303424] 1 -1.0 False\n",
      "152 [-0.45942817 -0.00353857] 1 -1.0 False\n",
      "153 [-0.46344506 -0.00401688] 1 -1.0 False\n",
      "154 [-0.46791065 -0.00446559] 1 -1.0 False\n",
      "155 [-0.47279196 -0.00488131] 1 -1.0 False\n",
      "156 [-0.47805286 -0.00526089] 1 -1.0 False\n",
      "157 [-0.48365428 -0.00560142] 1 -1.0 False\n",
      "158 [-0.48955457 -0.00590029] 1 -1.0 False\n",
      "159 [-0.49570975 -0.00615518] 1 -1.0 False\n",
      "iteration 0 accepted 5189.468597849992 [-0.9760202   0.00262743]\n",
      "160 [-0.50207385 -0.0063641 ] 1 -1.0 False\n",
      "161 [-0.50859928 -0.00652543] 1 -1.0 False\n",
      "162 [-0.51523716 -0.00663789] 1 -1.0 False\n",
      "163 [-0.52193775 -0.00670059] 1 -1.0 False\n",
      "164 [-0.5286508  -0.00671305] 1 -1.0 False\n"
     ]
    },
    {
     "name": "stdout",
     "output_type": "stream",
     "text": [
      "165 [-0.53532596 -0.00667516] 1 -1.0 False\n",
      "166 [-0.54191319 -0.00658722] 1 -1.0 False\n",
      "167 [-0.54836312 -0.00644994] 1 -1.0 False\n",
      "168 [-0.5546275  -0.00626437] 1 -1.0 False\n",
      "169 [-0.56065949 -0.00603199] 1 -1.0 False\n",
      "iteration 0 accepted 5193.386392042774 [-0.9760202   0.00262743]\n",
      "170 [-0.5664141  -0.00575461] 1 -1.0 False\n",
      "171 [-0.57184848 -0.00543438] 1 -1.0 False\n",
      "172 [-0.57692225 -0.00507377] 1 -1.0 False\n",
      "173 [-0.58159779 -0.00467555] 1 -1.0 False\n",
      "174 [-0.58584054 -0.00424274] 1 -1.0 False\n",
      "175 [-0.58961917 -0.00377864] 1 -1.0 False\n",
      "176 [-0.59290589 -0.00328672] 1 -1.0 False\n",
      "177 [-0.59567654 -0.00277065] 1 -1.0 False\n",
      "178 [-0.59791081 -0.00223427] 1 -1.0 False\n",
      "179 [-0.59959235 -0.00168154] 1 -1.0 False\n",
      "iteration 0 accepted 5195.411343313821 [-0.9760202   0.00262743]\n",
      "180 [-0.60070886 -0.00111651] 1 -1.0 False\n",
      "181 [-6.01252182e-01 -5.43326569e-04] 1 -1.0 False\n",
      "182 [-6.01218362e-01  3.38203974e-05] 1 -1.0 False\n",
      "183 [-0.60060764  0.00061072] 1 -1.0 False\n",
      "184 [-0.59942448  0.00118316] 1 -1.0 False\n",
      "185 [-0.59767751  0.00174696] 1 -1.0 False\n",
      "186 [-0.59537952  0.00229799] 1 -1.0 False\n",
      "187 [-0.59254733  0.0028322 ] 1 -1.0 False\n",
      "188 [-0.58920169  0.00334563] 1 -1.0 False\n",
      "189 [-0.58536721  0.00383448] 1 -1.0 False\n",
      "iteration 0 accepted 5194.222208816092 [-0.9760202   0.00262743]\n",
      "190 [-0.58107211  0.0042951 ] 1 -1.0 False\n",
      "191 [-0.57634809  0.00472402] 1 -1.0 False\n",
      "192 [-0.57123011  0.00511799] 1 -1.0 False\n",
      "193 [-0.5657561   0.00547401] 1 -1.0 False\n",
      "194 [-0.55996675  0.00578935] 1 -1.0 False\n",
      "195 [-0.55390519  0.00606156] 1 -1.0 False\n",
      "196 [-0.54761664  0.00628855] 1 -1.0 False\n",
      "197 [-0.54114811  0.00646853] 1 -1.0 False\n",
      "198 [-0.53454802  0.00660009] 1 -1.0 False\n",
      "199 [-0.52786583  0.00668219] 1 -1.0 False\n"
     ]
    },
    {
     "ename": "ValueError",
     "evalue": "Done",
     "output_type": "error",
     "traceback": [
      "\u001b[0;31m---------------------------------------------------------------------------\u001b[0m",
      "\u001b[0;31mValueError\u001b[0m                                Traceback (most recent call last)",
      "\u001b[0;32m<ipython-input-17-2b8d48b5431b>\u001b[0m in \u001b[0;36m<module>\u001b[0;34m\u001b[0m\n\u001b[1;32m     24\u001b[0m         \u001b[0menv\u001b[0m\u001b[0;34m.\u001b[0m\u001b[0mrender\u001b[0m\u001b[0;34m(\u001b[0m\u001b[0;34m)\u001b[0m\u001b[0;34m\u001b[0m\u001b[0m\n\u001b[1;32m     25\u001b[0m         \u001b[0;32mif\u001b[0m \u001b[0mdone\u001b[0m \u001b[0;32mis\u001b[0m \u001b[0;32mTrue\u001b[0m\u001b[0;34m:\u001b[0m\u001b[0;34m\u001b[0m\u001b[0m\n\u001b[0;32m---> 26\u001b[0;31m             \u001b[0;32mraise\u001b[0m \u001b[0mValueError\u001b[0m\u001b[0;34m(\u001b[0m\u001b[0;34m'Done'\u001b[0m\u001b[0;34m)\u001b[0m\u001b[0;34m\u001b[0m\u001b[0m\n\u001b[0m",
      "\u001b[0;31mValueError\u001b[0m: Done"
     ]
    }
   ],
   "source": []
  },
  {
   "cell_type": "code",
   "execution_count": null,
   "metadata": {},
   "outputs": [],
   "source": []
  }
 ],
 "metadata": {
  "kernelspec": {
   "display_name": "Python 3",
   "language": "python",
   "name": "python3"
  },
  "language_info": {
   "codemirror_mode": {
    "name": "ipython",
    "version": 3
   },
   "file_extension": ".py",
   "mimetype": "text/x-python",
   "name": "python",
   "nbconvert_exporter": "python",
   "pygments_lexer": "ipython3",
   "version": "3.5.2"
  },
  "notify_time": "5"
 },
 "nbformat": 4,
 "nbformat_minor": 2
}
